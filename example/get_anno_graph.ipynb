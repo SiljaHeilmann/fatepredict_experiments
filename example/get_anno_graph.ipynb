{
 "cells": [
  {
   "cell_type": "code",
   "execution_count": null,
   "metadata": {},
   "outputs": [],
   "source": [
    "import sys\n",
    "sys.path.append('/home/silja/fatepredict/fatepredict_experiments')"
   ]
  },
  {
   "cell_type": "code",
   "execution_count": 5,
   "metadata": {},
   "outputs": [],
   "source": [
    "import zarr\n",
    "import numpy as np\n",
    "import networkx as nx\n",
    "from skimage.measure import regionprops\n",
    "from segmentation import segment_stats\n",
    "from linajea_cost_test import get_merge_graph_from_array\n",
    "from funlib.math import decode64"
   ]
  },
  {
   "cell_type": "code",
   "execution_count": 15,
   "metadata": {},
   "outputs": [],
   "source": [
    "z = zarr.open('anno_alice_T2030_tiny.zarr','r')\n",
    "gt_image = z['gt_trackimage'][:]\n",
    "raw = z['Raw'][:]"
   ]
  },
  {
   "cell_type": "code",
   "execution_count": 16,
   "metadata": {},
   "outputs": [],
   "source": [
    "# annation label is 10000, 10001, 10004, 10005, 10007, 10010, 10013, 10016, 10017\n",
    "gt_mask = gt_image >=10000\n",
    "gt_image = gt_mask * gt_image"
   ]
  },
  {
   "cell_type": "code",
   "execution_count": 14,
   "metadata": {},
   "outputs": [
    {
     "data": {
      "text/plain": [
       "array([    0, 10000, 10001, 10004, 10005, 10007, 10010, 10013, 10016,\n",
       "       10017], dtype=uint64)"
      ]
     },
     "execution_count": 14,
     "metadata": {},
     "output_type": "execute_result"
    }
   ],
   "source": [
    "# get the id list of one time frame\n",
    "id, positions, _ = segment_stats(gt_image[0],0)"
   ]
  },
  {
   "cell_type": "code",
   "execution_count": null,
   "metadata": {},
   "outputs": [],
   "source": [
    "t = 0\n",
    "merge_tree = z['Merge_tree/Merge/'+str(t)]\n",
    "scores = z['Merge_tree/Scoring/'+str(t)]\n",
    "merge_tree = get_merge_graph_from_array(merge_tree,scores)\n",
    "\n",
    "# count the number of how many annotation id in merge tree\n",
    "def count_anno_id(id,merge_tree):\n",
    "    '''\n",
    "    merge_tree: nx.Digrph merge_tree create by waterz \n",
    "    id: ndarray (n,) 1d array store all ids in GT image\n",
    "    correct_id_num: int count the number of how many annotation node(id) in merge tree\n",
    "    '''\n",
    "    mt_id = list(merge_tree.nodes)\n",
    "    correct_id_num = len(set(id)&set(mt_id))\n",
    "    return correct_id_num \n",
    "\n",
    "correct_id_num = count_anno_id(id,merge_tree)\n"
   ]
  },
  {
   "cell_type": "code",
   "execution_count": null,
   "metadata": {},
   "outputs": [],
   "source": [
    "import napari\n",
    "viewer = napari.Viewer()\n",
    "viewer.add_image(raw[3])\n",
    "viewer.add_labels(gt_image)"
   ]
  },
  {
   "cell_type": "code",
   "execution_count": null,
   "metadata": {},
   "outputs": [],
   "source": [
    "# read .gexf file which created by run_candidate_graph.ipynb\n",
    "graph = nx.read_gexf('text.gexf')"
   ]
  },
  {
   "cell_type": "code",
   "execution_count": null,
   "metadata": {},
   "outputs": [],
   "source": [
    "def get_select_graph(graph):\n",
    "    select_graph = nx.DiGraph()\n",
    "    for u,v,data in graph.edges(data=True):\n",
    "        if data['selected']:\n",
    "            select_graph.add_edge(v, u, source = v, target = u)\n",
    "            select_graph.add_node(u, **graph.nodes[u])\n",
    "            select_graph.add_node(v, **graph.nodes[v])\n",
    "    return select_graph"
   ]
  },
  {
   "cell_type": "code",
   "execution_count": null,
   "metadata": {},
   "outputs": [],
   "source": [
    "select_graph = get_select_graph(graph)"
   ]
  },
  {
   "cell_type": "code",
   "execution_count": null,
   "metadata": {},
   "outputs": [],
   "source": [
    "def pick_select_edge(graph):\n",
    "    edges = []\n",
    "    selected_edges = []\n",
    "    for u,v,data in graph.edges(data=True):\n",
    "        edges.append((u,v))\n",
    "        if data['selected']:\n",
    "            selected_edges.append((u,v))\n",
    "    return edges, selected_edges\n",
    "\n",
    "edges, selected_edges = pick_select_edge(graph)"
   ]
  },
  {
   "cell_type": "code",
   "execution_count": null,
   "metadata": {},
   "outputs": [],
   "source": [
    "def selected_nodes_t(graph,t):\n",
    "    nodes_t = []\n",
    "    for node in graph.nodes:\n",
    "        cor = decode64(int(node),dims=5,bits=[9,12,12,12,19])\n",
    "        if cor[0] == t:\n",
    "            nodes_t.append(node)\n",
    "    return nodes_t"
   ]
  },
  {
   "cell_type": "code",
   "execution_count": null,
   "metadata": {},
   "outputs": [],
   "source": [
    "track_data = []\n",
    "# creat a list for tracking node\n",
    "track_id_node = []\n",
    "track_id = 0\n",
    "for node in select_graph.nodes:\n",
    "    cor = decode64(int(node),dims=5,bits=[9,12,12,12,19])\n",
    "    track_data.append([track_id,cor[0],cor[1],cor[2],cor[3]])\n",
    "    track_id_node.append(node)\n",
    "    track_id += 1"
   ]
  },
  {
   "cell_type": "code",
   "execution_count": null,
   "metadata": {},
   "outputs": [],
   "source": [
    "from candidate_graph import iterate_tree\n",
    "def add_select_nodes_mask(z):\n",
    "    time = 3\n",
    "    cell = np.zeros(fragments.shape,dtype=int)\n",
    "    for t in range(time):\n",
    "        ids = z['Fragment_stats/id/'+str(t)]\n",
    "        merge_tree = z['Merge_tree/Merge/'+str(t)]\n",
    "        scores = z['Merge_tree/Scoring/'+str(t)]\n",
    "        merge_tree = get_merge_graph_from_array(merge_tree,scores)\n",
    "        for node in select_graph.nodes:\n",
    "            if merge_tree.has_node(int(node)):\n",
    "                # find the merge path\n",
    "                sub_a = iterate_tree(merge_tree,int(node))\n",
    "                # creata new cell mask for node\n",
    "                mask = np.zeros(fragments[t].shape)\n",
    "                #find id\n",
    "                for a in sub_a:\n",
    "                    if a in list(ids):\n",
    "                        # a is the leave node id\n",
    "                        # get the label of this leave node\n",
    "                        label_a = list(ids).index(a)+1\n",
    "                        mask[fragments[t] == label_a] = 1\n",
    "                cell[t][mask==1] = track_id_node.index(node)\n",
    "        return cell"
   ]
  },
  {
   "cell_type": "code",
   "execution_count": null,
   "metadata": {},
   "outputs": [],
   "source": [
    "cell = add_select_nodes_mask(z)"
   ]
  }
 ],
 "metadata": {
  "kernelspec": {
   "display_name": "fatepredict",
   "language": "python",
   "name": "python3"
  },
  "language_info": {
   "codemirror_mode": {
    "name": "ipython",
    "version": 3
   },
   "file_extension": ".py",
   "mimetype": "text/x-python",
   "name": "python",
   "nbconvert_exporter": "python",
   "pygments_lexer": "ipython3",
   "version": "3.10.9"
  },
  "orig_nbformat": 4
 },
 "nbformat": 4,
 "nbformat_minor": 2
}
