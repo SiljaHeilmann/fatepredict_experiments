{
 "cells": [
  {
   "cell_type": "code",
   "execution_count": 12,
   "metadata": {},
   "outputs": [],
   "source": [
    " \n",
    "import sys\n",
    "sys.path.append('/home/silja/fatepredict/fatepredict_experiments')"
   ]
  },
  {
   "cell_type": "code",
   "execution_count": 1,
   "metadata": {},
   "outputs": [],
   "source": [
    "import zarr\n",
    "import numpy as np\n",
    "import networkx as nx"
   ]
  },
  {
   "cell_type": "code",
   "execution_count": 8,
   "metadata": {},
   "outputs": [],
   "source": [
    "z = zarr.open('anno_alice_T2030_tiny.zarr','r')\n",
    "gt_image = z['gt_trackimage'][:]\n",
    "raw = z['Raw'][:]"
   ]
  },
  {
   "cell_type": "code",
   "execution_count": 9,
   "metadata": {},
   "outputs": [],
   "source": [
    "# annation label is 10000, 10001, 10004, 10005, 10007, 10010, 10013, 10016, 10017\n",
    "gt_mask = gt_image >=10000\n",
    "gt_image= gt_mask * gt_image"
   ]
  },
  {
   "cell_type": "code",
   "execution_count": 10,
   "metadata": {},
   "outputs": [
    {
     "data": {
      "text/plain": [
       "array([    0, 10000, 10001, 10004, 10005, 10007, 10010, 10013, 10016,\n",
       "       10017], dtype=uint64)"
      ]
     },
     "execution_count": 10,
     "metadata": {},
     "output_type": "execute_result"
    }
   ],
   "source": [
    "np.unique(gt_image)"
   ]
  },
  {
   "cell_type": "code",
   "execution_count": 3,
   "metadata": {},
   "outputs": [],
   "source": []
  },
  {
   "cell_type": "code",
   "execution_count": 6,
   "metadata": {},
   "outputs": [
    {
     "data": {
      "text/plain": [
       "<Labels layer 'gt_image_2' at 0x7fa048b7bbb0>"
      ]
     },
     "execution_count": 6,
     "metadata": {},
     "output_type": "execute_result"
    }
   ],
   "source": [
    "import napari\n",
    "viewer = napari.Viewer()\n",
    "viewer.add_image(raw[3])\n",
    "viewer.add_labels(gt_image)\n"
   ]
  },
  {
   "cell_type": "code",
   "execution_count": 15,
   "metadata": {},
   "outputs": [],
   "source": [
    "from candidate_graph import iterate_tree\n",
    "import networkx as nx\n",
    "\n",
    "graph = nx.read_gexf('text.gexf')\n",
    "\n",
    "def pick_select_edge(graph):\n",
    "    edges = []\n",
    "    selected_edges = []\n",
    "    for u,v,data in graph.edges(data=True):\n",
    "        edges.append((u,v))\n",
    "        if data['selected']:\n",
    "            selected_edges.append((u,v))\n",
    "    return edges, selected_edges\n",
    "\n",
    "edges, selected_edges = pick_select_edge(graph)"
   ]
  },
  {
   "cell_type": "code",
   "execution_count": 18,
   "metadata": {},
   "outputs": [],
   "source": [
    "nodes = [nid for nid in graph.nodes()\n",
    "                if graph.nodes[nid]['t'] == 0]"
   ]
  },
  {
   "cell_type": "code",
   "execution_count": 19,
   "metadata": {},
   "outputs": [],
   "source": [
    "from linajea_cost_test import get_merge_graph_from_array\n",
    "\n",
    "t=0\n",
    "merge_tree = z['Merge_tree/Merge/'+str(t)]\n",
    "\n",
    "scores  = z['Merge_tree/Scoring/'+str(t)]\n",
    "\n",
    "merge_tree = get_merge_graph_from_array(merge_tree,scores)\n"
   ]
  },
  {
   "cell_type": "code",
   "execution_count": null,
   "metadata": {},
   "outputs": [],
   "source": []
  }
 ],
 "metadata": {
  "kernelspec": {
   "display_name": "fatepredict",
   "language": "python",
   "name": "python3"
  },
  "language_info": {
   "codemirror_mode": {
    "name": "ipython",
    "version": 3
   },
   "file_extension": ".py",
   "mimetype": "text/x-python",
   "name": "python",
   "nbconvert_exporter": "python",
   "pygments_lexer": "ipython3",
   "version": "3.10.9"
  },
  "orig_nbformat": 4
 },
 "nbformat": 4,
 "nbformat_minor": 2
}
